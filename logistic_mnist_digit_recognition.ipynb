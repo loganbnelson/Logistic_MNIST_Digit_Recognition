{
 "cells": [
  {
   "cell_type": "markdown",
   "metadata": {},
   "source": [
    "# Logistic regression: Handwritten Digit Recognition"
   ]
  },
  {
   "cell_type": "markdown",
   "metadata": {},
   "source": [
    "## Created by Logan Nelson\n",
    "#### See github for licensing.\n",
    "### logan.b.nelson@gmail.com, nelso566@purdue.edu, 818-925-6426"
   ]
  },
  {
   "cell_type": "markdown",
   "metadata": {},
   "source": [
    "This notebook uses the classic [MNIST handwritten digit](http://yann.lecun.com/exdb/mnist/) dataset, which contains digit 0-9 images of size 28*28. This can be used as self contained program for handwritten digit recognition of a file of data or as pieces to be implemented in other code. This is optimized for greyscale digit recognition."
   ]
  },
  {
   "cell_type": "markdown",
   "metadata": {},
   "source": [
    "If you have not yet installed any of the following packages they are required. Simply uncomment and run at least one time, or install using your preffered package installer."
   ]
  },
  {
   "cell_type": "code",
   "execution_count": 1,
   "metadata": {},
   "outputs": [],
   "source": [
    "# !pip install tensorflow\n",
    "# !pip install pillow"
   ]
  },
  {
   "cell_type": "code",
   "execution_count": 2,
   "metadata": {
    "tags": []
   },
   "outputs": [],
   "source": [
    "import matplotlib.pyplot as plt\n",
    "\n",
    "import numpy as np\n",
    "\n",
    "import pandas as pd\n",
    "\n",
    "import time\n",
    "\n",
    "import tensorflow\n",
    "from tensorflow import keras\n",
    "from tensorflow.keras import layers, models\n",
    "from tensorflow.keras.datasets import mnist\n",
    "from tensorflow.keras.models import load_model\n",
    "\n",
    "from PIL import Image"
   ]
  },
  {
   "cell_type": "markdown",
   "metadata": {},
   "source": [
    "### Let's set up a few functions"
   ]
  },
  {
   "cell_type": "code",
   "execution_count": 3,
   "metadata": {},
   "outputs": [],
   "source": [
    "def get_epochs():\n",
    "    while True:\n",
    "        try:\n",
    "            return int(input(\"How many epochs would you like to run? (Default is 25, press Enter for default): \") or 25)\n",
    "        except ValueError:\n",
    "            print(\"Please enter a valid integer.\")\n",
    "            \n",
    "def build_model():\n",
    "    model = keras.Sequential([layers.Dense(10, \n",
    "                                           input_dim=input_dim, \n",
    "                                           activation='sigmoid')])\n",
    "    \n",
    "    optimizer = keras.optimizers.Adam(0.001)\n",
    "    model.compile(loss='categorical_crossentropy',\n",
    "                  optimizer=optimizer,\n",
    "                  metrics=['accuracy'])\n",
    "    \n",
    "    return model\n",
    "\n",
    "def build_digit_recognition_model(input_shape, num_classes=10):\n",
    "    model = models.Sequential()\n",
    "    model.add(layers.Conv2D(32, kernel_size=(3, 3), activation='relu', input_shape=input_shape))\n",
    "    model.add(layers.Conv2D(64, (3, 3), activation='relu'))\n",
    "    model.add(layers.MaxPooling2D(pool_size=(2, 2)))\n",
    "    model.add(layers.Dropout(0.25))\n",
    "    model.add(layers.Flatten())\n",
    "    model.add(layers.Dense(128, activation='relu'))\n",
    "    model.add(layers.Dropout(0.5))\n",
    "    model.add(layers.Dense(num_classes, activation='softmax'))\n",
    "\n",
    "    model.compile(loss='categorical_crossentropy',\n",
    "                  optimizer='adam',\n",
    "                  metrics=['accuracy'])\n",
    "    return model\n",
    "\n",
    "def plot_history(history):\n",
    "    hist = pd.DataFrame(history.history)\n",
    "    hist['epoch'] = history.epoch\n",
    "    hist.tail()\n",
    "\n",
    "    plt.figure()\n",
    "    plt.xlabel('Epoch')\n",
    "    plt.ylabel('Accuracy')\n",
    "    plt.plot(hist['epoch'], hist['accuracy'])\n",
    "\n",
    "    plt.show()\n",
    "    \n",
    "# Display training progress by printing a single dot for each completed epoch\n",
    "\n",
    "class PrintLoss(keras.callbacks.Callback):\n",
    "    def on_epoch_begin(self, epoch, logs):\n",
    "        if epoch == 0: self.time = time.monotonic()\n",
    "            \n",
    "    def on_epoch_end(self, epoch, logs):\n",
    "        # calculate training time\n",
    "        t = time.monotonic() - self.time\n",
    "        # if validation set is included, its loss is recorded in logs['val_loss']\n",
    "        print('| Epoch {:4} | training time {:6.2f}s | train loss {:6.2f} |'\n",
    "              .format(epoch, t, logs['loss']))\n",
    "        \n",
    "def load_and_preprocess_image(image_path, target_size):\n",
    "    img = Image.open(image_path)\n",
    "\n",
    "    # Convert the image to grayscale as this model expects grayscale inputs\n",
    "    img = img.convert('L') \n",
    "\n",
    "    # Resize the image to the target size\n",
    "    img = img.resize(target_size, Image.LANCZOS)\n",
    "\n",
    "    # Convert the image data to an array and normalize\n",
    "    img_array = np.array(img) / 255.0\n",
    "\n",
    "    img_array = np.expand_dims(img_array, axis=-1)\n",
    "\n",
    "    # Add a batch dimension (model expects a batch, even if it's a single image)\n",
    "    img_array = np.expand_dims(img_array, axis=0)\n",
    "    \n",
    "    return img_array\n",
    "\n",
    "def predict_digit(model, image_path):\n",
    "    # Assuming your model expects 28x28 images\n",
    "    img_array = load_and_preprocess_image(image_path, (28, 28))\n",
    "\n",
    "    # Make a prediction\n",
    "    prediction = model.predict(img_array)\n",
    "\n",
    "    # Convert prediction to a readable digit\n",
    "    predicted_digit = np.argmax(prediction)\n",
    "    \n",
    "    return predicted_digit"
   ]
  },
  {
   "cell_type": "markdown",
   "metadata": {},
   "source": [
    "### Constants and Configurations"
   ]
  },
  {
   "cell_type": "code",
   "execution_count": 4,
   "metadata": {
    "tags": []
   },
   "outputs": [
    {
     "name": "stdout",
     "output_type": "stream",
     "text": [
      "How many epochs would you like to run? (Default is 25, press Enter for default): \n",
      "Do you want to evaluate an image? Enter Y for Yes or N for No: Y\n",
      "Please enter the name of the image you want evaluated. \n",
      "    If it is in the same folder as this program, just enter the name.\n",
      "    If it is not in the same folder, please type the file path with the file name. 3.jpg\n"
     ]
    }
   ],
   "source": [
    "(X_train_pre, y_train_pre), (X_validation_pre, y_validation_pre) = mnist.load_data() # MNIST comes split between train and validation sets \n",
    "input_dim_MNIST = (28, 28, 1) # These are the dimensions from the library.\n",
    "num_classes = 10 # 0-9 digits\n",
    "\n",
    "image_width, image_height = 28, 28\n",
    "channels = 1  # 1 for grayscale, 3 for RGB\n",
    "\n",
    "EPOCHS = get_epochs()\n",
    "\n",
    "user_input = input(\"Do you want to evaluate an image? Enter Y for Yes or N for No: \")\n",
    "\n",
    "if user_input.strip().upper() == \"Y\":\n",
    "    image_path = input(\"\"\"Please enter the name of the image you want evaluated. \n",
    "    If it is in the same folder as this program, just enter the name.\n",
    "    If it is not in the same folder, please type the file path with the file name. \"\"\")"
   ]
  },
  {
   "cell_type": "markdown",
   "metadata": {},
   "source": [
    "### Visualize MNIST data for reference"
   ]
  },
  {
   "cell_type": "code",
   "execution_count": 5,
   "metadata": {},
   "outputs": [
    {
     "data": {
      "image/png": "[encoded data removed]",
      "text/plain": [
       "<Figure size 900x900 with 9 Axes>"
      ]
     },
     "metadata": {},
     "output_type": "display_data"
    }
   ],
   "source": [
    "fig = plt.figure(figsize=(9, 9))\n",
    "col = 3\n",
    "row = 3\n",
    "for i in range(1, col*row +1):\n",
    "    label = y_train_pre[i]\n",
    "    img = X_train_pre[i,:]\n",
    "    fig.add_subplot(row, col, i)\n",
    "    plt.title('Label is {}'.format(label))\n",
    "    plt.xticks([])\n",
    "    plt.yticks([])\n",
    "    plt.imshow(img, cmap='gray')\n",
    "plt.show()"
   ]
  },
  {
   "cell_type": "markdown",
   "metadata": {},
   "source": [
    "### Reshape and normalize the features"
   ]
  },
  {
   "cell_type": "code",
   "execution_count": 6,
   "metadata": {},
   "outputs": [
    {
     "name": "stdout",
     "output_type": "stream",
     "text": [
      "Training data shape: (60000, 28, 28, 1)\n",
      "60000 train samples, 10000 validation samples\n"
     ]
    }
   ],
   "source": [
    "X_train = X_train_pre.reshape(X_train_pre.shape[0], image_width, image_height, channels)\n",
    "X_validation = X_validation_pre.reshape(X_validation_pre.shape[0], image_width, image_height, channels)\n",
    "\n",
    "X_train = X_train.astype('float32') \n",
    "X_validation = X_validation.astype('float32') \n",
    "X_train /= 255.0 # This normalizes the values for a RGB range of 2^8 possible values for 0-255.\n",
    "X_validation /= 255.0 # This normalizes the values for a RGB range of 2^8 possible values for 0-255.\n",
    "\n",
    "print('Training data shape:', X_train.shape)\n",
    "print('{} train samples, {} validation samples'.format(X_train.shape[0], X_validation.shape[0]))"
   ]
  },
  {
   "cell_type": "markdown",
   "metadata": {},
   "source": [
    "### Convert class vectors to binary class matrices\n",
    "Convert class label to one-hot encoding. In one-hot encoding, categorical variables are converted into a form that could be provided to machine learning algorithms to do a better job in prediction."
   ]
  },
  {
   "cell_type": "code",
   "execution_count": 7,
   "metadata": {},
   "outputs": [
    {
     "data": {
      "text/plain": [
       "array([[0., 0., 0., 0., 0., 1., 0., 0., 0., 0.],\n",
       "       [1., 0., 0., 0., 0., 0., 0., 0., 0., 0.],\n",
       "       [0., 0., 0., 0., 1., 0., 0., 0., 0., 0.],\n",
       "       [0., 1., 0., 0., 0., 0., 0., 0., 0., 0.],\n",
       "       [0., 0., 0., 0., 0., 0., 0., 0., 0., 1.]], dtype=float32)"
      ]
     },
     "execution_count": 7,
     "metadata": {},
     "output_type": "execute_result"
    }
   ],
   "source": [
    "y_train = keras.utils.to_categorical(y_train_pre, num_classes)\n",
    "y_validation = keras.utils.to_categorical(y_validation_pre, num_classes)\n",
    "\n",
    "y_train[:5,] "
   ]
  },
  {
   "cell_type": "markdown",
   "metadata": {},
   "source": [
    "### Build the model"
   ]
  },
  {
   "cell_type": "code",
   "execution_count": 8,
   "metadata": {
    "tags": []
   },
   "outputs": [],
   "source": [
    "model = build_digit_recognition_model(input_dim_MNIST, num_classes)"
   ]
  },
  {
   "cell_type": "markdown",
   "metadata": {},
   "source": [
    "### Inspect the model\n",
    "\n",
    "Use the `.summary` method to print a simple description of the model"
   ]
  },
  {
   "cell_type": "code",
   "execution_count": 9,
   "metadata": {},
   "outputs": [
    {
     "name": "stdout",
     "output_type": "stream",
     "text": [
      "Model: \"sequential\"\n",
      "_________________________________________________________________\n",
      " Layer (type)                Output Shape              Param #   \n",
      "=================================================================\n",
      " conv2d (Conv2D)             (None, 26, 26, 32)        320       \n",
      "                                                                 \n",
      " conv2d_1 (Conv2D)           (None, 24, 24, 64)        18496     \n",
      "                                                                 \n",
      " max_pooling2d (MaxPooling2  (None, 12, 12, 64)        0         \n",
      " D)                                                              \n",
      "                                                                 \n",
      " dropout (Dropout)           (None, 12, 12, 64)        0         \n",
      "                                                                 \n",
      " flatten (Flatten)           (None, 9216)              0         \n",
      "                                                                 \n",
      " dense (Dense)               (None, 128)               1179776   \n",
      "                                                                 \n",
      " dropout_1 (Dropout)         (None, 128)               0         \n",
      "                                                                 \n",
      " dense_1 (Dense)             (None, 10)                1290      \n",
      "                                                                 \n",
      "=================================================================\n",
      "Total params: 1199882 (4.58 MB)\n",
      "Trainable params: 1199882 (4.58 MB)\n",
      "Non-trainable params: 0 (0.00 Byte)\n",
      "_________________________________________________________________\n"
     ]
    }
   ],
   "source": [
    "model.summary()"
   ]
  },
  {
   "cell_type": "markdown",
   "metadata": {},
   "source": [
    "### Train the model"
   ]
  },
  {
   "cell_type": "markdown",
   "metadata": {},
   "source": [
    "The below is mostly for seeing behind the curtain. We get the history of the model being trained by each epoch and a visualization to show the accuracy metric over each epoch."
   ]
  },
  {
   "cell_type": "code",
   "execution_count": 10,
   "metadata": {},
   "outputs": [
    {
     "name": "stdout",
     "output_type": "stream",
     "text": [
      "Epoch 1/25\n",
      "1874/1875 [============================>.] - ETA: 0s - loss: 0.1946 - accuracy: 0.9412| Epoch    0 | training time  34.25s | train loss   0.19 |\n",
      "1875/1875 [==============================] - 34s 18ms/step - loss: 0.1945 - accuracy: 0.9412\n",
      "Epoch 2/25\n",
      "1873/1875 [============================>.] - ETA: 0s - loss: 0.0805 - accuracy: 0.9750| Epoch    1 | training time  70.52s | train loss   0.08 |\n",
      "1875/1875 [==============================] - 36s 19ms/step - loss: 0.0805 - accuracy: 0.9750\n",
      "Epoch 3/25\n",
      "1873/1875 [============================>.] - ETA: 0s - loss: 0.0601 - accuracy: 0.9817| Epoch    2 | training time 106.41s | train loss   0.06 |\n",
      "1875/1875 [==============================] - 36s 19ms/step - loss: 0.0601 - accuracy: 0.9817\n",
      "Epoch 4/25\n",
      "1873/1875 [============================>.] - ETA: 0s - loss: 0.0504 - accuracy: 0.9843| Epoch    3 | training time 142.42s | train loss   0.05 |\n",
      "1875/1875 [==============================] - 36s 19ms/step - loss: 0.0504 - accuracy: 0.9843\n",
      "Epoch 5/25\n",
      "1873/1875 [============================>.] - ETA: 0s - loss: 0.0403 - accuracy: 0.9875| Epoch    4 | training time 178.74s | train loss   0.04 |\n",
      "1875/1875 [==============================] - 36s 19ms/step - loss: 0.0405 - accuracy: 0.9875\n",
      "Epoch 6/25\n",
      "1873/1875 [============================>.] - ETA: 0s - loss: 0.0369 - accuracy: 0.9884| Epoch    5 | training time 215.20s | train loss   0.04 |\n",
      "1875/1875 [==============================] - 36s 19ms/step - loss: 0.0370 - accuracy: 0.9883\n",
      "Epoch 7/25\n",
      "1873/1875 [============================>.] - ETA: 0s - loss: 0.0324 - accuracy: 0.9897| Epoch    6 | training time 251.67s | train loss   0.03 |\n",
      "1875/1875 [==============================] - 36s 19ms/step - loss: 0.0324 - accuracy: 0.9898\n",
      "Epoch 8/25\n",
      "1873/1875 [============================>.] - ETA: 0s - loss: 0.0276 - accuracy: 0.9909| Epoch    7 | training time 287.70s | train loss   0.03 |\n",
      "1875/1875 [==============================] - 36s 19ms/step - loss: 0.0276 - accuracy: 0.9908\n",
      "Epoch 9/25\n",
      "1873/1875 [============================>.] - ETA: 0s - loss: 0.0249 - accuracy: 0.9919| Epoch    8 | training time 323.58s | train loss   0.02 |\n",
      "1875/1875 [==============================] - 36s 19ms/step - loss: 0.0249 - accuracy: 0.9919\n",
      "Epoch 10/25\n",
      "1873/1875 [============================>.] - ETA: 0s - loss: 0.0226 - accuracy: 0.9924| Epoch    9 | training time 359.38s | train loss   0.02 |\n",
      "1875/1875 [==============================] - 36s 19ms/step - loss: 0.0226 - accuracy: 0.9924\n",
      "Epoch 11/25\n",
      "1873/1875 [============================>.] - ETA: 0s - loss: 0.0211 - accuracy: 0.9932| Epoch   10 | training time 395.34s | train loss   0.02 |\n",
      "1875/1875 [==============================] - 36s 19ms/step - loss: 0.0212 - accuracy: 0.9932\n",
      "Epoch 12/25\n",
      "1873/1875 [============================>.] - ETA: 0s - loss: 0.0200 - accuracy: 0.9934| Epoch   11 | training time 431.02s | train loss   0.02 |\n",
      "1875/1875 [==============================] - 36s 19ms/step - loss: 0.0200 - accuracy: 0.9934\n",
      "Epoch 13/25\n",
      "1873/1875 [============================>.] - ETA: 0s - loss: 0.0177 - accuracy: 0.9940| Epoch   12 | training time 466.53s | train loss   0.02 |\n",
      "1875/1875 [==============================] - 36s 19ms/step - loss: 0.0177 - accuracy: 0.9940\n",
      "Epoch 14/25\n",
      "1873/1875 [============================>.] - ETA: 0s - loss: 0.0180 - accuracy: 0.9944| Epoch   13 | training time 502.00s | train loss   0.02 |\n",
      "1875/1875 [==============================] - 35s 19ms/step - loss: 0.0180 - accuracy: 0.9944\n",
      "Epoch 15/25\n",
      "1873/1875 [============================>.] - ETA: 0s - loss: 0.0167 - accuracy: 0.9945| Epoch   14 | training time 537.64s | train loss   0.02 |\n",
      "1875/1875 [==============================] - 36s 19ms/step - loss: 0.0168 - accuracy: 0.9945\n",
      "Epoch 16/25\n",
      "1873/1875 [============================>.] - ETA: 0s - loss: 0.0162 - accuracy: 0.9948| Epoch   15 | training time 573.94s | train loss   0.02 |\n",
      "1875/1875 [==============================] - 36s 19ms/step - loss: 0.0162 - accuracy: 0.9948\n",
      "Epoch 17/25\n",
      "1873/1875 [============================>.] - ETA: 0s - loss: 0.0159 - accuracy: 0.9952| Epoch   16 | training time 610.24s | train loss   0.02 |\n",
      "1875/1875 [==============================] - 36s 19ms/step - loss: 0.0159 - accuracy: 0.9952\n",
      "Epoch 18/25\n",
      "1873/1875 [============================>.] - ETA: 0s - loss: 0.0152 - accuracy: 0.9950| Epoch   17 | training time 646.38s | train loss   0.02 |\n",
      "1875/1875 [==============================] - 36s 19ms/step - loss: 0.0152 - accuracy: 0.9950\n",
      "Epoch 19/25\n",
      "1873/1875 [============================>.] - ETA: 0s - loss: 0.0134 - accuracy: 0.9956| Epoch   18 | training time 682.33s | train loss   0.01 |\n",
      "1875/1875 [==============================] - 36s 19ms/step - loss: 0.0133 - accuracy: 0.9956\n",
      "Epoch 20/25\n",
      "1873/1875 [============================>.] - ETA: 0s - loss: 0.0139 - accuracy: 0.9954| Epoch   19 | training time 718.61s | train loss   0.01 |\n",
      "1875/1875 [==============================] - 36s 19ms/step - loss: 0.0139 - accuracy: 0.9954\n",
      "Epoch 21/25\n",
      "1873/1875 [============================>.] - ETA: 0s - loss: 0.0123 - accuracy: 0.9961| Epoch   20 | training time 754.83s | train loss   0.01 |\n",
      "1875/1875 [==============================] - 36s 19ms/step - loss: 0.0124 - accuracy: 0.9961\n",
      "Epoch 22/25\n",
      "1873/1875 [============================>.] - ETA: 0s - loss: 0.0143 - accuracy: 0.9957| Epoch   21 | training time 791.42s | train loss   0.01 |\n",
      "1875/1875 [==============================] - 37s 20ms/step - loss: 0.0143 - accuracy: 0.9957\n",
      "Epoch 23/25\n",
      "1873/1875 [============================>.] - ETA: 0s - loss: 0.0142 - accuracy: 0.9955| Epoch   22 | training time 828.80s | train loss   0.01 |\n",
      "1875/1875 [==============================] - 37s 20ms/step - loss: 0.0142 - accuracy: 0.9955\n",
      "Epoch 24/25\n",
      "1873/1875 [============================>.] - ETA: 0s - loss: 0.0131 - accuracy: 0.9959| Epoch   23 | training time 865.81s | train loss   0.01 |\n",
      "1875/1875 [==============================] - 37s 20ms/step - loss: 0.0131 - accuracy: 0.9959\n",
      "Epoch 25/25\n",
      "1873/1875 [============================>.] - ETA: 0s - loss: 0.0116 - accuracy: 0.9961| Epoch   24 | training time 901.78s | train loss   0.01 |\n",
      "1875/1875 [==============================] - 36s 19ms/step - loss: 0.0115 - accuracy: 0.9961\n"
     ]
    }
   ],
   "source": [
    "history = model.fit(X_train, y_train,\n",
    "                    batch_size=32, epochs=EPOCHS,\n",
    "                    callbacks=[PrintLoss()])"
   ]
  },
  {
   "cell_type": "code",
   "execution_count": 11,
   "metadata": {},
   "outputs": [
    {
     "data": {
      "image/png": "[encoded data removed]",
      "text/plain": [
       "<Figure size 640x480 with 1 Axes>"
      ]
     },
     "metadata": {},
     "output_type": "display_data"
    }
   ],
   "source": [
    "plot_history(history)"
   ]
  },
  {
   "cell_type": "markdown",
   "metadata": {},
   "source": [
    "### Make predictions"
   ]
  },
  {
   "cell_type": "markdown",
   "metadata": {},
   "source": [
    "Now we calculate the classification accuracy for the validation set."
   ]
  },
  {
   "cell_type": "code",
   "execution_count": 12,
   "metadata": {},
   "outputs": [
    {
     "name": "stdout",
     "output_type": "stream",
     "text": [
      "Validation set accuracy: 99.30%\n"
     ]
    }
   ],
   "source": [
    "_, acc = model.evaluate(X_validation, y_validation, verbose=0)\n",
    "\n",
    "print(\"Validation set accuracy: {:.2f}%\".format(acc*100))"
   ]
  },
  {
   "cell_type": "markdown",
   "metadata": {},
   "source": [
    "Now we can check predictions for validation data. We'll just look at 5 examples for the validation set."
   ]
  },
  {
   "cell_type": "code",
   "execution_count": 13,
   "metadata": {},
   "outputs": [
    {
     "name": "stdout",
     "output_type": "stream",
     "text": [
      "313/313 [==============================] - 1s 5ms/step\n"
     ]
    },
    {
     "data": {
      "text/plain": [
       "array([7, 2, 1, 0, 4], dtype=int64)"
      ]
     },
     "execution_count": 13,
     "metadata": {},
     "output_type": "execute_result"
    }
   ],
   "source": [
    "y_pred = np.argmax(model.predict(X_validation), axis=-1)\n",
    "y_pred[:5]"
   ]
  },
  {
   "cell_type": "markdown",
   "metadata": {},
   "source": [
    "Now, we will visualize predictions for the validation set."
   ]
  },
  {
   "cell_type": "code",
   "execution_count": 14,
   "metadata": {},
   "outputs": [
    {
     "data": {
      "image/png": "[encoded data removed]",
      "text/plain": [
       "<Figure size 900x900 with 9 Axes>"
      ]
     },
     "metadata": {},
     "output_type": "display_data"
    }
   ],
   "source": [
    "fig = plt.figure(figsize=(9, 9))\n",
    "col = 3\n",
    "row = 3\n",
    "for i in range(1, col*row +1):\n",
    "    pred = y_pred[i]\n",
    "    img = X_validation_pre[i,:]\n",
    "    fig.add_subplot(row, col, i)\n",
    "    plt.title('Predicted label is {}'.format(pred))\n",
    "    plt.xticks([])\n",
    "    plt.yticks([])\n",
    "    plt.imshow(img, cmap='gray')\n",
    "plt.show()"
   ]
  },
  {
   "cell_type": "markdown",
   "metadata": {},
   "source": [
    "If the user has put in their own image, this returns a prediction if desired."
   ]
  },
  {
   "cell_type": "code",
   "execution_count": 15,
   "metadata": {},
   "outputs": [
    {
     "name": "stdout",
     "output_type": "stream",
     "text": [
      "1/1 [==============================] - 0s 10ms/step\n",
      "The predicted digit is: 8\n"
     ]
    }
   ],
   "source": [
    "if user_input == \"Y\":\n",
    "    your_digit = predict_digit(model, image_path)\n",
    "    print(f\"The predicted digit is: {your_digit}\")"
   ]
  }
 ],
 "metadata": {
  "kernelspec": {
   "display_name": "Python 3 (ipykernel)",
   "language": "python",
   "name": "python3"
  },
  "language_info": {
   "codemirror_mode": {
    "name": "ipython",
    "version": 3
   },
   "file_extension": ".py",
   "mimetype": "text/x-python",
   "name": "python",
   "nbconvert_exporter": "python",
   "pygments_lexer": "ipython3",
   "version": "3.11.3"
  }
 },
 "nbformat": 4,
 "nbformat_minor": 4
}
